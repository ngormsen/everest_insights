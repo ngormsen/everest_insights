{
 "cells": [
  {
   "cell_type": "code",
   "execution_count": 1,
   "metadata": {},
   "outputs": [],
   "source": [
    "import numpy as np\n",
    "import pandas as pd\n",
    "import datetime as dt\n",
    "import seaborn as sns\n",
    "import matplotlib.pyplot as plt"
   ]
  },
  {
   "cell_type": "code",
   "execution_count": 2,
   "metadata": {},
   "outputs": [],
   "source": [
    "df = pd.read_csv(\"retail_relay.csv\")"
   ]
  },
  {
   "cell_type": "code",
   "execution_count": 3,
   "metadata": {},
   "outputs": [
    {
     "data": {
      "text/html": [
       "<div>\n",
       "<style scoped>\n",
       "    .dataframe tbody tr th:only-of-type {\n",
       "        vertical-align: middle;\n",
       "    }\n",
       "\n",
       "    .dataframe tbody tr th {\n",
       "        vertical-align: top;\n",
       "    }\n",
       "\n",
       "    .dataframe thead th {\n",
       "        text-align: right;\n",
       "    }\n",
       "</style>\n",
       "<table border=\"1\" class=\"dataframe\">\n",
       "  <thead>\n",
       "    <tr style=\"text-align: right;\">\n",
       "      <th></th>\n",
       "      <th>orderId</th>\n",
       "      <th>orderDate</th>\n",
       "      <th>userId</th>\n",
       "      <th>totalCharges</th>\n",
       "      <th>commonId</th>\n",
       "      <th>pupId</th>\n",
       "      <th>pickupDate</th>\n",
       "      <th>orderYear</th>\n",
       "      <th>orderMonth</th>\n",
       "      <th>orderDay</th>\n",
       "      <th>purchaseOccasion</th>\n",
       "      <th>orderPeriod</th>\n",
       "      <th>orderQuarter</th>\n",
       "      <th>cohortMonthly</th>\n",
       "      <th>cohortQuarterly</th>\n",
       "    </tr>\n",
       "  </thead>\n",
       "  <tbody>\n",
       "    <tr>\n",
       "      <td>0</td>\n",
       "      <td>262</td>\n",
       "      <td>2009-01-11T00:00:00Z</td>\n",
       "      <td>47</td>\n",
       "      <td>50.67</td>\n",
       "      <td>TRQKD</td>\n",
       "      <td>2</td>\n",
       "      <td>2009-01-12T00:00:00Z</td>\n",
       "      <td>2009</td>\n",
       "      <td>1</td>\n",
       "      <td>11</td>\n",
       "      <td>1</td>\n",
       "      <td>1</td>\n",
       "      <td>1</td>\n",
       "      <td>1</td>\n",
       "      <td>1</td>\n",
       "    </tr>\n",
       "    <tr>\n",
       "      <td>1</td>\n",
       "      <td>278</td>\n",
       "      <td>2009-01-20T00:00:00Z</td>\n",
       "      <td>47</td>\n",
       "      <td>26.60</td>\n",
       "      <td>4HH2S</td>\n",
       "      <td>3</td>\n",
       "      <td>2009-01-20T00:00:00Z</td>\n",
       "      <td>2009</td>\n",
       "      <td>1</td>\n",
       "      <td>20</td>\n",
       "      <td>2</td>\n",
       "      <td>1</td>\n",
       "      <td>1</td>\n",
       "      <td>1</td>\n",
       "      <td>1</td>\n",
       "    </tr>\n",
       "    <tr>\n",
       "      <td>2</td>\n",
       "      <td>294</td>\n",
       "      <td>2009-02-03T00:00:00Z</td>\n",
       "      <td>47</td>\n",
       "      <td>38.71</td>\n",
       "      <td>3TRDC</td>\n",
       "      <td>2</td>\n",
       "      <td>2009-02-04T00:00:00Z</td>\n",
       "      <td>2009</td>\n",
       "      <td>2</td>\n",
       "      <td>3</td>\n",
       "      <td>3</td>\n",
       "      <td>2</td>\n",
       "      <td>1</td>\n",
       "      <td>1</td>\n",
       "      <td>1</td>\n",
       "    </tr>\n",
       "    <tr>\n",
       "      <td>3</td>\n",
       "      <td>301</td>\n",
       "      <td>2009-02-06T00:00:00Z</td>\n",
       "      <td>47</td>\n",
       "      <td>53.38</td>\n",
       "      <td>NGAZJ</td>\n",
       "      <td>2</td>\n",
       "      <td>2009-02-09T00:00:00Z</td>\n",
       "      <td>2009</td>\n",
       "      <td>2</td>\n",
       "      <td>6</td>\n",
       "      <td>4</td>\n",
       "      <td>2</td>\n",
       "      <td>1</td>\n",
       "      <td>1</td>\n",
       "      <td>1</td>\n",
       "    </tr>\n",
       "    <tr>\n",
       "      <td>4</td>\n",
       "      <td>302</td>\n",
       "      <td>2009-02-06T00:00:00Z</td>\n",
       "      <td>47</td>\n",
       "      <td>14.28</td>\n",
       "      <td>FFYHD</td>\n",
       "      <td>2</td>\n",
       "      <td>2009-02-09T00:00:00Z</td>\n",
       "      <td>2009</td>\n",
       "      <td>2</td>\n",
       "      <td>6</td>\n",
       "      <td>5</td>\n",
       "      <td>2</td>\n",
       "      <td>1</td>\n",
       "      <td>1</td>\n",
       "      <td>1</td>\n",
       "    </tr>\n",
       "  </tbody>\n",
       "</table>\n",
       "</div>"
      ],
      "text/plain": [
       "   orderId             orderDate  userId  totalCharges commonId  pupId  \\\n",
       "0      262  2009-01-11T00:00:00Z      47         50.67    TRQKD      2   \n",
       "1      278  2009-01-20T00:00:00Z      47         26.60    4HH2S      3   \n",
       "2      294  2009-02-03T00:00:00Z      47         38.71    3TRDC      2   \n",
       "3      301  2009-02-06T00:00:00Z      47         53.38    NGAZJ      2   \n",
       "4      302  2009-02-06T00:00:00Z      47         14.28    FFYHD      2   \n",
       "\n",
       "             pickupDate  orderYear  orderMonth  orderDay  purchaseOccasion  \\\n",
       "0  2009-01-12T00:00:00Z       2009           1        11                 1   \n",
       "1  2009-01-20T00:00:00Z       2009           1        20                 2   \n",
       "2  2009-02-04T00:00:00Z       2009           2         3                 3   \n",
       "3  2009-02-09T00:00:00Z       2009           2         6                 4   \n",
       "4  2009-02-09T00:00:00Z       2009           2         6                 5   \n",
       "\n",
       "   orderPeriod  orderQuarter  cohortMonthly  cohortQuarterly  \n",
       "0            1             1              1                1  \n",
       "1            1             1              1                1  \n",
       "2            2             1              1                1  \n",
       "3            2             1              1                1  \n",
       "4            2             1              1                1  "
      ]
     },
     "execution_count": 3,
     "metadata": {},
     "output_type": "execute_result"
    }
   ],
   "source": [
    "df.head()"
   ]
  },
  {
   "cell_type": "code",
   "execution_count": 4,
   "metadata": {},
   "outputs": [
    {
     "data": {
      "text/plain": [
       "Index(['orderId', 'orderDate', 'userId', 'totalCharges', 'commonId', 'pupId',\n",
       "       'pickupDate', 'orderYear', 'orderMonth', 'orderDay', 'purchaseOccasion',\n",
       "       'orderPeriod', 'orderQuarter', 'cohortMonthly', 'cohortQuarterly'],\n",
       "      dtype='object')"
      ]
     },
     "execution_count": 4,
     "metadata": {},
     "output_type": "execute_result"
    }
   ],
   "source": [
    "df.columns"
   ]
  },
  {
   "cell_type": "code",
   "execution_count": 5,
   "metadata": {},
   "outputs": [
    {
     "name": "stdout",
     "output_type": "stream",
     "text": [
      "(2891, 4)\n"
     ]
    },
    {
     "data": {
      "text/html": [
       "<div>\n",
       "<style scoped>\n",
       "    .dataframe tbody tr th:only-of-type {\n",
       "        vertical-align: middle;\n",
       "    }\n",
       "\n",
       "    .dataframe tbody tr th {\n",
       "        vertical-align: top;\n",
       "    }\n",
       "\n",
       "    .dataframe thead th {\n",
       "        text-align: right;\n",
       "    }\n",
       "</style>\n",
       "<table border=\"1\" class=\"dataframe\">\n",
       "  <thead>\n",
       "    <tr style=\"text-align: right;\">\n",
       "      <th></th>\n",
       "      <th>orderId</th>\n",
       "      <th>orderDate</th>\n",
       "      <th>totalCharges</th>\n",
       "      <th>userId</th>\n",
       "    </tr>\n",
       "  </thead>\n",
       "  <tbody>\n",
       "    <tr>\n",
       "      <td>0</td>\n",
       "      <td>262</td>\n",
       "      <td>2009-01-11T00:00:00Z</td>\n",
       "      <td>50.67</td>\n",
       "      <td>47</td>\n",
       "    </tr>\n",
       "    <tr>\n",
       "      <td>1</td>\n",
       "      <td>278</td>\n",
       "      <td>2009-01-20T00:00:00Z</td>\n",
       "      <td>26.60</td>\n",
       "      <td>47</td>\n",
       "    </tr>\n",
       "    <tr>\n",
       "      <td>2</td>\n",
       "      <td>294</td>\n",
       "      <td>2009-02-03T00:00:00Z</td>\n",
       "      <td>38.71</td>\n",
       "      <td>47</td>\n",
       "    </tr>\n",
       "    <tr>\n",
       "      <td>3</td>\n",
       "      <td>301</td>\n",
       "      <td>2009-02-06T00:00:00Z</td>\n",
       "      <td>53.38</td>\n",
       "      <td>47</td>\n",
       "    </tr>\n",
       "    <tr>\n",
       "      <td>4</td>\n",
       "      <td>302</td>\n",
       "      <td>2009-02-06T00:00:00Z</td>\n",
       "      <td>14.28</td>\n",
       "      <td>47</td>\n",
       "    </tr>\n",
       "  </tbody>\n",
       "</table>\n",
       "</div>"
      ],
      "text/plain": [
       "   orderId             orderDate  totalCharges  userId\n",
       "0      262  2009-01-11T00:00:00Z         50.67      47\n",
       "1      278  2009-01-20T00:00:00Z         26.60      47\n",
       "2      294  2009-02-03T00:00:00Z         38.71      47\n",
       "3      301  2009-02-06T00:00:00Z         53.38      47\n",
       "4      302  2009-02-06T00:00:00Z         14.28      47"
      ]
     },
     "execution_count": 5,
     "metadata": {},
     "output_type": "execute_result"
    }
   ],
   "source": [
    "# Select relevent columns\n",
    "dfSub = df[['orderId', 'orderDate', 'totalCharges', 'userId']]\n",
    "\n",
    "print(dfSub.shape)\n",
    "\n",
    "dfSub.head()"
   ]
  },
  {
   "cell_type": "code",
   "execution_count": 6,
   "metadata": {},
   "outputs": [
    {
     "data": {
      "text/plain": [
       "orderId         0\n",
       "orderDate       0\n",
       "totalCharges    0\n",
       "userId          0\n",
       "dtype: int64"
      ]
     },
     "execution_count": 6,
     "metadata": {},
     "output_type": "execute_result"
    }
   ],
   "source": [
    "dfSub.isna().sum()"
   ]
  },
  {
   "cell_type": "code",
   "execution_count": 7,
   "metadata": {},
   "outputs": [
    {
     "name": "stdout",
     "output_type": "stream",
     "text": [
      "<class 'pandas.core.frame.DataFrame'>\n",
      "RangeIndex: 2891 entries, 0 to 2890\n",
      "Data columns (total 4 columns):\n",
      "orderId         2891 non-null int64\n",
      "orderDate       2891 non-null object\n",
      "totalCharges    2891 non-null float64\n",
      "userId          2891 non-null int64\n",
      "dtypes: float64(1), int64(2), object(1)\n",
      "memory usage: 90.5+ KB\n"
     ]
    }
   ],
   "source": [
    "dfSub.info()"
   ]
  },
  {
   "cell_type": "code",
   "execution_count": 8,
   "metadata": {},
   "outputs": [
    {
     "name": "stderr",
     "output_type": "stream",
     "text": [
      "D:\\programme\\anaconda\\lib\\site-packages\\pandas\\core\\indexing.py:494: SettingWithCopyWarning: \n",
      "A value is trying to be set on a copy of a slice from a DataFrame.\n",
      "Try using .loc[row_indexer,col_indexer] = value instead\n",
      "\n",
      "See the caveats in the documentation: http://pandas.pydata.org/pandas-docs/stable/user_guide/indexing.html#returning-a-view-versus-a-copy\n",
      "  self.obj[item] = s\n"
     ]
    },
    {
     "data": {
      "text/html": [
       "<div>\n",
       "<style scoped>\n",
       "    .dataframe tbody tr th:only-of-type {\n",
       "        vertical-align: middle;\n",
       "    }\n",
       "\n",
       "    .dataframe tbody tr th {\n",
       "        vertical-align: top;\n",
       "    }\n",
       "\n",
       "    .dataframe thead th {\n",
       "        text-align: right;\n",
       "    }\n",
       "</style>\n",
       "<table border=\"1\" class=\"dataframe\">\n",
       "  <thead>\n",
       "    <tr style=\"text-align: right;\">\n",
       "      <th></th>\n",
       "      <th>orderId</th>\n",
       "      <th>orderDate</th>\n",
       "      <th>totalCharges</th>\n",
       "      <th>userId</th>\n",
       "    </tr>\n",
       "  </thead>\n",
       "  <tbody>\n",
       "    <tr>\n",
       "      <td>0</td>\n",
       "      <td>262</td>\n",
       "      <td>2009-01-11 00:00:00+00:00</td>\n",
       "      <td>50.67</td>\n",
       "      <td>47</td>\n",
       "    </tr>\n",
       "    <tr>\n",
       "      <td>1</td>\n",
       "      <td>278</td>\n",
       "      <td>2009-01-20 00:00:00+00:00</td>\n",
       "      <td>26.60</td>\n",
       "      <td>47</td>\n",
       "    </tr>\n",
       "    <tr>\n",
       "      <td>2</td>\n",
       "      <td>294</td>\n",
       "      <td>2009-02-03 00:00:00+00:00</td>\n",
       "      <td>38.71</td>\n",
       "      <td>47</td>\n",
       "    </tr>\n",
       "    <tr>\n",
       "      <td>3</td>\n",
       "      <td>301</td>\n",
       "      <td>2009-02-06 00:00:00+00:00</td>\n",
       "      <td>53.38</td>\n",
       "      <td>47</td>\n",
       "    </tr>\n",
       "    <tr>\n",
       "      <td>4</td>\n",
       "      <td>302</td>\n",
       "      <td>2009-02-06 00:00:00+00:00</td>\n",
       "      <td>14.28</td>\n",
       "      <td>47</td>\n",
       "    </tr>\n",
       "  </tbody>\n",
       "</table>\n",
       "</div>"
      ],
      "text/plain": [
       "   orderId                 orderDate  totalCharges  userId\n",
       "0      262 2009-01-11 00:00:00+00:00         50.67      47\n",
       "1      278 2009-01-20 00:00:00+00:00         26.60      47\n",
       "2      294 2009-02-03 00:00:00+00:00         38.71      47\n",
       "3      301 2009-02-06 00:00:00+00:00         53.38      47\n",
       "4      302 2009-02-06 00:00:00+00:00         14.28      47"
      ]
     },
     "execution_count": 8,
     "metadata": {},
     "output_type": "execute_result"
    }
   ],
   "source": [
    "dfSub.loc[:, 'orderDate'] = pd.to_datetime(dfSub['orderDate'])\n",
    "dfSub.head()"
   ]
  },
  {
   "cell_type": "code",
   "execution_count": 72,
   "metadata": {},
   "outputs": [
    {
     "name": "stdout",
     "output_type": "stream",
     "text": [
      "<class 'pandas.core.frame.DataFrame'>\n",
      "RangeIndex: 2891 entries, 0 to 2890\n",
      "Data columns (total 4 columns):\n",
      "orderId         2891 non-null int64\n",
      "orderDate       2891 non-null datetime64[ns, UTC]\n",
      "totalCharges    2891 non-null float64\n",
      "userId          2891 non-null int64\n",
      "dtypes: datetime64[ns, UTC](1), float64(1), int64(2)\n",
      "memory usage: 90.5 KB\n"
     ]
    }
   ],
   "source": [
    "dfSub.info()"
   ]
  },
  {
   "cell_type": "code",
   "execution_count": 9,
   "metadata": {},
   "outputs": [
    {
     "name": "stderr",
     "output_type": "stream",
     "text": [
      "D:\\programme\\anaconda\\lib\\site-packages\\ipykernel_launcher.py:4: SettingWithCopyWarning: \n",
      "A value is trying to be set on a copy of a slice from a DataFrame.\n",
      "Try using .loc[row_indexer,col_indexer] = value instead\n",
      "\n",
      "See the caveats in the documentation: http://pandas.pydata.org/pandas-docs/stable/user_guide/indexing.html#returning-a-view-versus-a-copy\n",
      "  after removing the cwd from sys.path.\n",
      "D:\\programme\\anaconda\\lib\\site-packages\\ipykernel_launcher.py:5: SettingWithCopyWarning: \n",
      "A value is trying to be set on a copy of a slice from a DataFrame.\n",
      "Try using .loc[row_indexer,col_indexer] = value instead\n",
      "\n",
      "See the caveats in the documentation: http://pandas.pydata.org/pandas-docs/stable/user_guide/indexing.html#returning-a-view-versus-a-copy\n",
      "  \"\"\"\n"
     ]
    }
   ],
   "source": [
    "def get_month(x):\n",
    "    return dt.datetime(x.year, x.month, 1)\n",
    "\n",
    "dfSub['orderMonth'] = dfSub['orderDate'].apply(get_month)\n",
    "dfSub['cohortMonth'] = dfSub.groupby('userId')['orderMonth'].transform('min')"
   ]
  },
  {
   "cell_type": "code",
   "execution_count": 10,
   "metadata": {},
   "outputs": [
    {
     "data": {
      "text/html": [
       "<div>\n",
       "<style scoped>\n",
       "    .dataframe tbody tr th:only-of-type {\n",
       "        vertical-align: middle;\n",
       "    }\n",
       "\n",
       "    .dataframe tbody tr th {\n",
       "        vertical-align: top;\n",
       "    }\n",
       "\n",
       "    .dataframe thead th {\n",
       "        text-align: right;\n",
       "    }\n",
       "</style>\n",
       "<table border=\"1\" class=\"dataframe\">\n",
       "  <thead>\n",
       "    <tr style=\"text-align: right;\">\n",
       "      <th></th>\n",
       "      <th>orderId</th>\n",
       "      <th>orderDate</th>\n",
       "      <th>totalCharges</th>\n",
       "      <th>userId</th>\n",
       "      <th>orderMonth</th>\n",
       "      <th>cohortMonth</th>\n",
       "    </tr>\n",
       "  </thead>\n",
       "  <tbody>\n",
       "    <tr>\n",
       "      <td>0</td>\n",
       "      <td>262</td>\n",
       "      <td>2009-01-11 00:00:00+00:00</td>\n",
       "      <td>50.67</td>\n",
       "      <td>47</td>\n",
       "      <td>2009-01-01</td>\n",
       "      <td>2009-01-01</td>\n",
       "    </tr>\n",
       "    <tr>\n",
       "      <td>1</td>\n",
       "      <td>278</td>\n",
       "      <td>2009-01-20 00:00:00+00:00</td>\n",
       "      <td>26.60</td>\n",
       "      <td>47</td>\n",
       "      <td>2009-01-01</td>\n",
       "      <td>2009-01-01</td>\n",
       "    </tr>\n",
       "    <tr>\n",
       "      <td>2</td>\n",
       "      <td>294</td>\n",
       "      <td>2009-02-03 00:00:00+00:00</td>\n",
       "      <td>38.71</td>\n",
       "      <td>47</td>\n",
       "      <td>2009-02-01</td>\n",
       "      <td>2009-01-01</td>\n",
       "    </tr>\n",
       "    <tr>\n",
       "      <td>3</td>\n",
       "      <td>301</td>\n",
       "      <td>2009-02-06 00:00:00+00:00</td>\n",
       "      <td>53.38</td>\n",
       "      <td>47</td>\n",
       "      <td>2009-02-01</td>\n",
       "      <td>2009-01-01</td>\n",
       "    </tr>\n",
       "    <tr>\n",
       "      <td>4</td>\n",
       "      <td>302</td>\n",
       "      <td>2009-02-06 00:00:00+00:00</td>\n",
       "      <td>14.28</td>\n",
       "      <td>47</td>\n",
       "      <td>2009-02-01</td>\n",
       "      <td>2009-01-01</td>\n",
       "    </tr>\n",
       "  </tbody>\n",
       "</table>\n",
       "</div>"
      ],
      "text/plain": [
       "   orderId                 orderDate  totalCharges  userId orderMonth  \\\n",
       "0      262 2009-01-11 00:00:00+00:00         50.67      47 2009-01-01   \n",
       "1      278 2009-01-20 00:00:00+00:00         26.60      47 2009-01-01   \n",
       "2      294 2009-02-03 00:00:00+00:00         38.71      47 2009-02-01   \n",
       "3      301 2009-02-06 00:00:00+00:00         53.38      47 2009-02-01   \n",
       "4      302 2009-02-06 00:00:00+00:00         14.28      47 2009-02-01   \n",
       "\n",
       "  cohortMonth  \n",
       "0  2009-01-01  \n",
       "1  2009-01-01  \n",
       "2  2009-01-01  \n",
       "3  2009-01-01  \n",
       "4  2009-01-01  "
      ]
     },
     "execution_count": 10,
     "metadata": {},
     "output_type": "execute_result"
    }
   ],
   "source": [
    "dfSub.head()"
   ]
  },
  {
   "cell_type": "code",
   "execution_count": 11,
   "metadata": {},
   "outputs": [
    {
     "name": "stderr",
     "output_type": "stream",
     "text": [
      "D:\\programme\\anaconda\\lib\\site-packages\\ipykernel_launcher.py:13: SettingWithCopyWarning: \n",
      "A value is trying to be set on a copy of a slice from a DataFrame.\n",
      "Try using .loc[row_indexer,col_indexer] = value instead\n",
      "\n",
      "See the caveats in the documentation: http://pandas.pydata.org/pandas-docs/stable/user_guide/indexing.html#returning-a-view-versus-a-copy\n",
      "  del sys.path[0]\n"
     ]
    },
    {
     "data": {
      "text/html": [
       "<div>\n",
       "<style scoped>\n",
       "    .dataframe tbody tr th:only-of-type {\n",
       "        vertical-align: middle;\n",
       "    }\n",
       "\n",
       "    .dataframe tbody tr th {\n",
       "        vertical-align: top;\n",
       "    }\n",
       "\n",
       "    .dataframe thead th {\n",
       "        text-align: right;\n",
       "    }\n",
       "</style>\n",
       "<table border=\"1\" class=\"dataframe\">\n",
       "  <thead>\n",
       "    <tr style=\"text-align: right;\">\n",
       "      <th></th>\n",
       "      <th>orderId</th>\n",
       "      <th>orderDate</th>\n",
       "      <th>totalCharges</th>\n",
       "      <th>userId</th>\n",
       "      <th>orderMonth</th>\n",
       "      <th>cohortMonth</th>\n",
       "      <th>cohortIndex</th>\n",
       "    </tr>\n",
       "  </thead>\n",
       "  <tbody>\n",
       "    <tr>\n",
       "      <td>0</td>\n",
       "      <td>262</td>\n",
       "      <td>2009-01-11 00:00:00+00:00</td>\n",
       "      <td>50.67</td>\n",
       "      <td>47</td>\n",
       "      <td>2009-01-01</td>\n",
       "      <td>2009-01-01</td>\n",
       "      <td>1</td>\n",
       "    </tr>\n",
       "    <tr>\n",
       "      <td>1</td>\n",
       "      <td>278</td>\n",
       "      <td>2009-01-20 00:00:00+00:00</td>\n",
       "      <td>26.60</td>\n",
       "      <td>47</td>\n",
       "      <td>2009-01-01</td>\n",
       "      <td>2009-01-01</td>\n",
       "      <td>1</td>\n",
       "    </tr>\n",
       "    <tr>\n",
       "      <td>2</td>\n",
       "      <td>294</td>\n",
       "      <td>2009-02-03 00:00:00+00:00</td>\n",
       "      <td>38.71</td>\n",
       "      <td>47</td>\n",
       "      <td>2009-02-01</td>\n",
       "      <td>2009-01-01</td>\n",
       "      <td>2</td>\n",
       "    </tr>\n",
       "    <tr>\n",
       "      <td>3</td>\n",
       "      <td>301</td>\n",
       "      <td>2009-02-06 00:00:00+00:00</td>\n",
       "      <td>53.38</td>\n",
       "      <td>47</td>\n",
       "      <td>2009-02-01</td>\n",
       "      <td>2009-01-01</td>\n",
       "      <td>2</td>\n",
       "    </tr>\n",
       "    <tr>\n",
       "      <td>4</td>\n",
       "      <td>302</td>\n",
       "      <td>2009-02-06 00:00:00+00:00</td>\n",
       "      <td>14.28</td>\n",
       "      <td>47</td>\n",
       "      <td>2009-02-01</td>\n",
       "      <td>2009-01-01</td>\n",
       "      <td>2</td>\n",
       "    </tr>\n",
       "  </tbody>\n",
       "</table>\n",
       "</div>"
      ],
      "text/plain": [
       "   orderId                 orderDate  totalCharges  userId orderMonth  \\\n",
       "0      262 2009-01-11 00:00:00+00:00         50.67      47 2009-01-01   \n",
       "1      278 2009-01-20 00:00:00+00:00         26.60      47 2009-01-01   \n",
       "2      294 2009-02-03 00:00:00+00:00         38.71      47 2009-02-01   \n",
       "3      301 2009-02-06 00:00:00+00:00         53.38      47 2009-02-01   \n",
       "4      302 2009-02-06 00:00:00+00:00         14.28      47 2009-02-01   \n",
       "\n",
       "  cohortMonth  cohortIndex  \n",
       "0  2009-01-01            1  \n",
       "1  2009-01-01            1  \n",
       "2  2009-01-01            2  \n",
       "3  2009-01-01            2  \n",
       "4  2009-01-01            2  "
      ]
     },
     "execution_count": 11,
     "metadata": {},
     "output_type": "execute_result"
    }
   ],
   "source": [
    "def get_date(df, column):\n",
    "    year = df[column].dt.year\n",
    "    month = df[column].dt.month\n",
    "    day = df[column].dt.day\n",
    "    return year, month, day\n",
    "\n",
    "order_year, order_month, _ = get_date(dfSub, 'orderMonth')\n",
    "cohort_year, cohort_month, _ = get_date(dfSub, 'cohortMonth')\n",
    "\n",
    "year_diff = order_year - cohort_year\n",
    "month_diff = order_month - cohort_month\n",
    "\n",
    "dfSub['cohortIndex'] = year_diff * 12 + month_diff + 1\n",
    "dfSub.head()"
   ]
  },
  {
   "cell_type": "code",
   "execution_count": 12,
   "metadata": {},
   "outputs": [
    {
     "data": {
      "text/html": [
       "<div>\n",
       "<style scoped>\n",
       "    .dataframe tbody tr th:only-of-type {\n",
       "        vertical-align: middle;\n",
       "    }\n",
       "\n",
       "    .dataframe tbody tr th {\n",
       "        vertical-align: top;\n",
       "    }\n",
       "\n",
       "    .dataframe thead th {\n",
       "        text-align: right;\n",
       "    }\n",
       "</style>\n",
       "<table border=\"1\" class=\"dataframe\">\n",
       "  <thead>\n",
       "    <tr style=\"text-align: right;\">\n",
       "      <th>cohortMonth</th>\n",
       "      <th>2009-01-01</th>\n",
       "      <th>2009-02-01</th>\n",
       "      <th>2009-03-01</th>\n",
       "      <th>2009-04-01</th>\n",
       "      <th>2009-05-01</th>\n",
       "      <th>2009-06-01</th>\n",
       "      <th>2009-07-01</th>\n",
       "      <th>2009-08-01</th>\n",
       "      <th>2009-09-01</th>\n",
       "      <th>2009-10-01</th>\n",
       "      <th>2009-11-01</th>\n",
       "      <th>2009-12-01</th>\n",
       "      <th>2010-01-01</th>\n",
       "      <th>2010-02-01</th>\n",
       "      <th>2010-03-01</th>\n",
       "    </tr>\n",
       "    <tr>\n",
       "      <th>cohortIndex</th>\n",
       "      <th></th>\n",
       "      <th></th>\n",
       "      <th></th>\n",
       "      <th></th>\n",
       "      <th></th>\n",
       "      <th></th>\n",
       "      <th></th>\n",
       "      <th></th>\n",
       "      <th></th>\n",
       "      <th></th>\n",
       "      <th></th>\n",
       "      <th></th>\n",
       "      <th></th>\n",
       "      <th></th>\n",
       "      <th></th>\n",
       "    </tr>\n",
       "  </thead>\n",
       "  <tbody>\n",
       "    <tr>\n",
       "      <td>1</td>\n",
       "      <td>22.0</td>\n",
       "      <td>15.0</td>\n",
       "      <td>13.0</td>\n",
       "      <td>39.0</td>\n",
       "      <td>50.0</td>\n",
       "      <td>32.0</td>\n",
       "      <td>50.0</td>\n",
       "      <td>31.0</td>\n",
       "      <td>37.0</td>\n",
       "      <td>54.0</td>\n",
       "      <td>130.0</td>\n",
       "      <td>65.0</td>\n",
       "      <td>95.0</td>\n",
       "      <td>100.0</td>\n",
       "      <td>24.0</td>\n",
       "    </tr>\n",
       "    <tr>\n",
       "      <td>2</td>\n",
       "      <td>8.0</td>\n",
       "      <td>3.0</td>\n",
       "      <td>4.0</td>\n",
       "      <td>13.0</td>\n",
       "      <td>13.0</td>\n",
       "      <td>15.0</td>\n",
       "      <td>23.0</td>\n",
       "      <td>11.0</td>\n",
       "      <td>15.0</td>\n",
       "      <td>17.0</td>\n",
       "      <td>32.0</td>\n",
       "      <td>17.0</td>\n",
       "      <td>50.0</td>\n",
       "      <td>19.0</td>\n",
       "      <td>NaN</td>\n",
       "    </tr>\n",
       "    <tr>\n",
       "      <td>3</td>\n",
       "      <td>10.0</td>\n",
       "      <td>5.0</td>\n",
       "      <td>5.0</td>\n",
       "      <td>10.0</td>\n",
       "      <td>12.0</td>\n",
       "      <td>9.0</td>\n",
       "      <td>13.0</td>\n",
       "      <td>9.0</td>\n",
       "      <td>14.0</td>\n",
       "      <td>12.0</td>\n",
       "      <td>26.0</td>\n",
       "      <td>18.0</td>\n",
       "      <td>26.0</td>\n",
       "      <td>NaN</td>\n",
       "      <td>NaN</td>\n",
       "    </tr>\n",
       "    <tr>\n",
       "      <td>4</td>\n",
       "      <td>9.0</td>\n",
       "      <td>1.0</td>\n",
       "      <td>4.0</td>\n",
       "      <td>13.0</td>\n",
       "      <td>5.0</td>\n",
       "      <td>6.0</td>\n",
       "      <td>10.0</td>\n",
       "      <td>7.0</td>\n",
       "      <td>8.0</td>\n",
       "      <td>13.0</td>\n",
       "      <td>29.0</td>\n",
       "      <td>7.0</td>\n",
       "      <td>NaN</td>\n",
       "      <td>NaN</td>\n",
       "      <td>NaN</td>\n",
       "    </tr>\n",
       "    <tr>\n",
       "      <td>5</td>\n",
       "      <td>10.0</td>\n",
       "      <td>4.0</td>\n",
       "      <td>1.0</td>\n",
       "      <td>6.0</td>\n",
       "      <td>4.0</td>\n",
       "      <td>7.0</td>\n",
       "      <td>11.0</td>\n",
       "      <td>6.0</td>\n",
       "      <td>13.0</td>\n",
       "      <td>13.0</td>\n",
       "      <td>13.0</td>\n",
       "      <td>NaN</td>\n",
       "      <td>NaN</td>\n",
       "      <td>NaN</td>\n",
       "      <td>NaN</td>\n",
       "    </tr>\n",
       "    <tr>\n",
       "      <td>6</td>\n",
       "      <td>8.0</td>\n",
       "      <td>4.0</td>\n",
       "      <td>2.0</td>\n",
       "      <td>7.0</td>\n",
       "      <td>6.0</td>\n",
       "      <td>5.0</td>\n",
       "      <td>10.0</td>\n",
       "      <td>8.0</td>\n",
       "      <td>9.0</td>\n",
       "      <td>7.0</td>\n",
       "      <td>NaN</td>\n",
       "      <td>NaN</td>\n",
       "      <td>NaN</td>\n",
       "      <td>NaN</td>\n",
       "      <td>NaN</td>\n",
       "    </tr>\n",
       "    <tr>\n",
       "      <td>7</td>\n",
       "      <td>8.0</td>\n",
       "      <td>4.0</td>\n",
       "      <td>2.0</td>\n",
       "      <td>4.0</td>\n",
       "      <td>3.0</td>\n",
       "      <td>3.0</td>\n",
       "      <td>11.0</td>\n",
       "      <td>4.0</td>\n",
       "      <td>8.0</td>\n",
       "      <td>NaN</td>\n",
       "      <td>NaN</td>\n",
       "      <td>NaN</td>\n",
       "      <td>NaN</td>\n",
       "      <td>NaN</td>\n",
       "      <td>NaN</td>\n",
       "    </tr>\n",
       "    <tr>\n",
       "      <td>8</td>\n",
       "      <td>7.0</td>\n",
       "      <td>5.0</td>\n",
       "      <td>3.0</td>\n",
       "      <td>6.0</td>\n",
       "      <td>5.0</td>\n",
       "      <td>3.0</td>\n",
       "      <td>7.0</td>\n",
       "      <td>4.0</td>\n",
       "      <td>NaN</td>\n",
       "      <td>NaN</td>\n",
       "      <td>NaN</td>\n",
       "      <td>NaN</td>\n",
       "      <td>NaN</td>\n",
       "      <td>NaN</td>\n",
       "      <td>NaN</td>\n",
       "    </tr>\n",
       "    <tr>\n",
       "      <td>9</td>\n",
       "      <td>7.0</td>\n",
       "      <td>5.0</td>\n",
       "      <td>2.0</td>\n",
       "      <td>2.0</td>\n",
       "      <td>5.0</td>\n",
       "      <td>10.0</td>\n",
       "      <td>7.0</td>\n",
       "      <td>NaN</td>\n",
       "      <td>NaN</td>\n",
       "      <td>NaN</td>\n",
       "      <td>NaN</td>\n",
       "      <td>NaN</td>\n",
       "      <td>NaN</td>\n",
       "      <td>NaN</td>\n",
       "      <td>NaN</td>\n",
       "    </tr>\n",
       "    <tr>\n",
       "      <td>10</td>\n",
       "      <td>7.0</td>\n",
       "      <td>4.0</td>\n",
       "      <td>1.0</td>\n",
       "      <td>4.0</td>\n",
       "      <td>4.0</td>\n",
       "      <td>3.0</td>\n",
       "      <td>NaN</td>\n",
       "      <td>NaN</td>\n",
       "      <td>NaN</td>\n",
       "      <td>NaN</td>\n",
       "      <td>NaN</td>\n",
       "      <td>NaN</td>\n",
       "      <td>NaN</td>\n",
       "      <td>NaN</td>\n",
       "      <td>NaN</td>\n",
       "    </tr>\n",
       "    <tr>\n",
       "      <td>11</td>\n",
       "      <td>7.0</td>\n",
       "      <td>3.0</td>\n",
       "      <td>3.0</td>\n",
       "      <td>3.0</td>\n",
       "      <td>3.0</td>\n",
       "      <td>NaN</td>\n",
       "      <td>NaN</td>\n",
       "      <td>NaN</td>\n",
       "      <td>NaN</td>\n",
       "      <td>NaN</td>\n",
       "      <td>NaN</td>\n",
       "      <td>NaN</td>\n",
       "      <td>NaN</td>\n",
       "      <td>NaN</td>\n",
       "      <td>NaN</td>\n",
       "    </tr>\n",
       "    <tr>\n",
       "      <td>12</td>\n",
       "      <td>8.0</td>\n",
       "      <td>3.0</td>\n",
       "      <td>2.0</td>\n",
       "      <td>2.0</td>\n",
       "      <td>NaN</td>\n",
       "      <td>NaN</td>\n",
       "      <td>NaN</td>\n",
       "      <td>NaN</td>\n",
       "      <td>NaN</td>\n",
       "      <td>NaN</td>\n",
       "      <td>NaN</td>\n",
       "      <td>NaN</td>\n",
       "      <td>NaN</td>\n",
       "      <td>NaN</td>\n",
       "      <td>NaN</td>\n",
       "    </tr>\n",
       "    <tr>\n",
       "      <td>13</td>\n",
       "      <td>11.0</td>\n",
       "      <td>5.0</td>\n",
       "      <td>1.0</td>\n",
       "      <td>NaN</td>\n",
       "      <td>NaN</td>\n",
       "      <td>NaN</td>\n",
       "      <td>NaN</td>\n",
       "      <td>NaN</td>\n",
       "      <td>NaN</td>\n",
       "      <td>NaN</td>\n",
       "      <td>NaN</td>\n",
       "      <td>NaN</td>\n",
       "      <td>NaN</td>\n",
       "      <td>NaN</td>\n",
       "      <td>NaN</td>\n",
       "    </tr>\n",
       "    <tr>\n",
       "      <td>14</td>\n",
       "      <td>7.0</td>\n",
       "      <td>NaN</td>\n",
       "      <td>NaN</td>\n",
       "      <td>NaN</td>\n",
       "      <td>NaN</td>\n",
       "      <td>NaN</td>\n",
       "      <td>NaN</td>\n",
       "      <td>NaN</td>\n",
       "      <td>NaN</td>\n",
       "      <td>NaN</td>\n",
       "      <td>NaN</td>\n",
       "      <td>NaN</td>\n",
       "      <td>NaN</td>\n",
       "      <td>NaN</td>\n",
       "      <td>NaN</td>\n",
       "    </tr>\n",
       "    <tr>\n",
       "      <td>15</td>\n",
       "      <td>6.0</td>\n",
       "      <td>NaN</td>\n",
       "      <td>NaN</td>\n",
       "      <td>NaN</td>\n",
       "      <td>NaN</td>\n",
       "      <td>NaN</td>\n",
       "      <td>NaN</td>\n",
       "      <td>NaN</td>\n",
       "      <td>NaN</td>\n",
       "      <td>NaN</td>\n",
       "      <td>NaN</td>\n",
       "      <td>NaN</td>\n",
       "      <td>NaN</td>\n",
       "      <td>NaN</td>\n",
       "      <td>NaN</td>\n",
       "    </tr>\n",
       "  </tbody>\n",
       "</table>\n",
       "</div>"
      ],
      "text/plain": [
       "cohortMonth  2009-01-01  2009-02-01  2009-03-01  2009-04-01  2009-05-01  \\\n",
       "cohortIndex                                                               \n",
       "1                  22.0        15.0        13.0        39.0        50.0   \n",
       "2                   8.0         3.0         4.0        13.0        13.0   \n",
       "3                  10.0         5.0         5.0        10.0        12.0   \n",
       "4                   9.0         1.0         4.0        13.0         5.0   \n",
       "5                  10.0         4.0         1.0         6.0         4.0   \n",
       "6                   8.0         4.0         2.0         7.0         6.0   \n",
       "7                   8.0         4.0         2.0         4.0         3.0   \n",
       "8                   7.0         5.0         3.0         6.0         5.0   \n",
       "9                   7.0         5.0         2.0         2.0         5.0   \n",
       "10                  7.0         4.0         1.0         4.0         4.0   \n",
       "11                  7.0         3.0         3.0         3.0         3.0   \n",
       "12                  8.0         3.0         2.0         2.0         NaN   \n",
       "13                 11.0         5.0         1.0         NaN         NaN   \n",
       "14                  7.0         NaN         NaN         NaN         NaN   \n",
       "15                  6.0         NaN         NaN         NaN         NaN   \n",
       "\n",
       "cohortMonth  2009-06-01  2009-07-01  2009-08-01  2009-09-01  2009-10-01  \\\n",
       "cohortIndex                                                               \n",
       "1                  32.0        50.0        31.0        37.0        54.0   \n",
       "2                  15.0        23.0        11.0        15.0        17.0   \n",
       "3                   9.0        13.0         9.0        14.0        12.0   \n",
       "4                   6.0        10.0         7.0         8.0        13.0   \n",
       "5                   7.0        11.0         6.0        13.0        13.0   \n",
       "6                   5.0        10.0         8.0         9.0         7.0   \n",
       "7                   3.0        11.0         4.0         8.0         NaN   \n",
       "8                   3.0         7.0         4.0         NaN         NaN   \n",
       "9                  10.0         7.0         NaN         NaN         NaN   \n",
       "10                  3.0         NaN         NaN         NaN         NaN   \n",
       "11                  NaN         NaN         NaN         NaN         NaN   \n",
       "12                  NaN         NaN         NaN         NaN         NaN   \n",
       "13                  NaN         NaN         NaN         NaN         NaN   \n",
       "14                  NaN         NaN         NaN         NaN         NaN   \n",
       "15                  NaN         NaN         NaN         NaN         NaN   \n",
       "\n",
       "cohortMonth  2009-11-01  2009-12-01  2010-01-01  2010-02-01  2010-03-01  \n",
       "cohortIndex                                                              \n",
       "1                 130.0        65.0        95.0       100.0        24.0  \n",
       "2                  32.0        17.0        50.0        19.0         NaN  \n",
       "3                  26.0        18.0        26.0         NaN         NaN  \n",
       "4                  29.0         7.0         NaN         NaN         NaN  \n",
       "5                  13.0         NaN         NaN         NaN         NaN  \n",
       "6                   NaN         NaN         NaN         NaN         NaN  \n",
       "7                   NaN         NaN         NaN         NaN         NaN  \n",
       "8                   NaN         NaN         NaN         NaN         NaN  \n",
       "9                   NaN         NaN         NaN         NaN         NaN  \n",
       "10                  NaN         NaN         NaN         NaN         NaN  \n",
       "11                  NaN         NaN         NaN         NaN         NaN  \n",
       "12                  NaN         NaN         NaN         NaN         NaN  \n",
       "13                  NaN         NaN         NaN         NaN         NaN  \n",
       "14                  NaN         NaN         NaN         NaN         NaN  \n",
       "15                  NaN         NaN         NaN         NaN         NaN  "
      ]
     },
     "execution_count": 12,
     "metadata": {},
     "output_type": "execute_result"
    }
   ],
   "source": [
    "cohort_data = dfSub.groupby(['cohortMonth', 'cohortIndex'])['userId'].apply(pd.Series.nunique).reset_index()\n",
    "cohort_count = cohort_data.pivot_table(index = 'cohortIndex',\n",
    "                                      columns = 'cohortMonth',\n",
    "                                      values = 'userId')\n",
    "cohort_count"
   ]
  },
  {
   "cell_type": "code",
   "execution_count": 55,
   "metadata": {},
   "outputs": [
    {
     "data": {
      "application/vnd.plotly.v1+json": {
       "config": {
        "plotlyServerURL": "https://plot.ly"
       },
       "data": [
        {
         "coloraxis": "coloraxis",
         "hovertemplate": "orderMonth: %{x}<br>cohortIndex: %{y}<br>color: %{z}<extra></extra>",
         "type": "heatmap",
         "x": [
          "2009-01-01T00:00:00",
          "2009-02-01T00:00:00",
          "2009-03-01T00:00:00",
          "2009-04-01T00:00:00",
          "2009-05-01T00:00:00",
          "2009-06-01T00:00:00",
          "2009-07-01T00:00:00",
          "2009-08-01T00:00:00",
          "2009-09-01T00:00:00",
          "2009-10-01T00:00:00",
          "2009-11-01T00:00:00",
          "2009-12-01T00:00:00",
          "2010-01-01T00:00:00",
          "2010-02-01T00:00:00",
          "2010-03-01T00:00:00"
         ],
         "y": [
          1,
          2,
          3,
          4,
          5,
          6,
          7,
          8,
          9,
          10,
          11,
          12,
          13,
          14,
          15
         ],
         "z": [
          [
           1850.255,
           666.31,
           806.31,
           2561.2499999999995,
           2627.5600000000004,
           1544.2199999999998,
           2797.7599999999998,
           2605.9981000000002,
           1953.0553,
           3802.2525000000005,
           6738.586899999998,
           4571.691099999999,
           9677.9032,
           7374.710800000003,
           1099.5470999999998
          ],
          [
           null,
           1351.0649999999998,
           501.60999999999996,
           463.79999999999995,
           1189.5799999999997,
           1146.8300000000002,
           1165.9,
           1858.3499,
           1869.4376,
           2433.3013000000005,
           1957.8871999999997,
           5107.421299999999,
           2565.4410000000003,
           8453.103900000002,
           945.9632999999999
          ],
          [
           null,
           null,
           1357.36,
           968.7800000000001,
           1108.21,
           1085.3799999999997,
           648.2100000000002,
           688.2128999999999,
           1312.8501999999999,
           1313.7691,
           1953.2262000000003,
           2394.5337999999992,
           5046.8124,
           1785.7852999999998,
           2238.6461
          ],
          [
           null,
           null,
           null,
           1604.5,
           53.36,
           902.71,
           987.13,
           381.15,
           922.7762,
           1053.5598999999997,
           1228.7399,
           1371.3499000000002,
           1952.0574000000004,
           3486.0959000000003,
           534.0929
          ],
          [
           null,
           null,
           null,
           null,
           1575.6250000000002,
           758.52,
           161.25,
           474.01,
           415.5969,
           504.4159,
           833.4689999999999,
           1723.3975,
           2262.0345999999995,
           1783.1022000000003,
           961.3680999999998
          ],
          [
           null,
           null,
           null,
           null,
           null,
           1384.84,
           667.1,
           1010.8000000000001,
           531.3825,
           389.06050000000005,
           182.91,
           506.24090000000007,
           1213.1379000000002,
           1842.9433999999999,
           546.0690999999999
          ],
          [
           null,
           null,
           null,
           null,
           null,
           null,
           1750.8400000000001,
           314.17519999999996,
           1256.4672,
           209.44650000000001,
           351.68,
           295,
           793.0552,
           1595.9906,
           688.6822
          ],
          [
           null,
           null,
           null,
           null,
           null,
           null,
           null,
           1426.5714,
           567.5057,
           1067.9247,
           339.11389999999994,
           420.2842,
           514.9887,
           1163.1281999999999,
           478.77869999999996
          ],
          [
           null,
           null,
           null,
           null,
           null,
           null,
           null,
           null,
           1964.2755,
           328.28,
           905.361,
           147.325,
           223.56889999999999,
           1211.4755,
           401.71900000000005
          ],
          [
           null,
           null,
           null,
           null,
           null,
           null,
           null,
           null,
           null,
           860.3292,
           738.9359,
           485.9966,
           445.5447,
           613.8222,
           162.12
          ],
          [
           null,
           null,
           null,
           null,
           null,
           null,
           null,
           null,
           null,
           null,
           1821.8153000000002,
           263.19710000000003,
           897.1602,
           634.695,
           81.82830000000001
          ],
          [
           null,
           null,
           null,
           null,
           null,
           null,
           null,
           null,
           null,
           null,
           null,
           2152.1165,
           550.0097999999999,
           642.1517,
           279.8733
          ],
          [
           null,
           null,
           null,
           null,
           null,
           null,
           null,
           null,
           null,
           null,
           null,
           null,
           2084.2236000000003,
           734.7613000000001,
           76.31
          ],
          [
           null,
           null,
           null,
           null,
           null,
           null,
           null,
           null,
           null,
           null,
           null,
           null,
           null,
           2068.7771,
           null
          ],
          [
           null,
           null,
           null,
           null,
           null,
           null,
           null,
           null,
           null,
           null,
           null,
           null,
           null,
           null,
           1504.3324999999998
          ]
         ]
        }
       ],
       "layout": {
        "coloraxis": {
         "colorscale": [
          [
           0,
           "rgb(5,48,97)"
          ],
          [
           0.1,
           "rgb(33,102,172)"
          ],
          [
           0.2,
           "rgb(67,147,195)"
          ],
          [
           0.3,
           "rgb(146,197,222)"
          ],
          [
           0.4,
           "rgb(209,229,240)"
          ],
          [
           0.5,
           "rgb(247,247,247)"
          ],
          [
           0.6,
           "rgb(253,219,199)"
          ],
          [
           0.7,
           "rgb(244,165,130)"
          ],
          [
           0.8,
           "rgb(214,96,77)"
          ],
          [
           0.9,
           "rgb(178,24,43)"
          ],
          [
           1,
           "rgb(103,0,31)"
          ]
         ]
        },
        "margin": {
         "t": 60
        },
        "template": {
         "data": {
          "bar": [
           {
            "error_x": {
             "color": "#2a3f5f"
            },
            "error_y": {
             "color": "#2a3f5f"
            },
            "marker": {
             "line": {
              "color": "#E5ECF6",
              "width": 0.5
             }
            },
            "type": "bar"
           }
          ],
          "barpolar": [
           {
            "marker": {
             "line": {
              "color": "#E5ECF6",
              "width": 0.5
             }
            },
            "type": "barpolar"
           }
          ],
          "carpet": [
           {
            "aaxis": {
             "endlinecolor": "#2a3f5f",
             "gridcolor": "white",
             "linecolor": "white",
             "minorgridcolor": "white",
             "startlinecolor": "#2a3f5f"
            },
            "baxis": {
             "endlinecolor": "#2a3f5f",
             "gridcolor": "white",
             "linecolor": "white",
             "minorgridcolor": "white",
             "startlinecolor": "#2a3f5f"
            },
            "type": "carpet"
           }
          ],
          "choropleth": [
           {
            "colorbar": {
             "outlinewidth": 0,
             "ticks": ""
            },
            "type": "choropleth"
           }
          ],
          "contour": [
           {
            "colorbar": {
             "outlinewidth": 0,
             "ticks": ""
            },
            "colorscale": [
             [
              0,
              "#0d0887"
             ],
             [
              0.1111111111111111,
              "#46039f"
             ],
             [
              0.2222222222222222,
              "#7201a8"
             ],
             [
              0.3333333333333333,
              "#9c179e"
             ],
             [
              0.4444444444444444,
              "#bd3786"
             ],
             [
              0.5555555555555556,
              "#d8576b"
             ],
             [
              0.6666666666666666,
              "#ed7953"
             ],
             [
              0.7777777777777778,
              "#fb9f3a"
             ],
             [
              0.8888888888888888,
              "#fdca26"
             ],
             [
              1,
              "#f0f921"
             ]
            ],
            "type": "contour"
           }
          ],
          "contourcarpet": [
           {
            "colorbar": {
             "outlinewidth": 0,
             "ticks": ""
            },
            "type": "contourcarpet"
           }
          ],
          "heatmap": [
           {
            "colorbar": {
             "outlinewidth": 0,
             "ticks": ""
            },
            "colorscale": [
             [
              0,
              "#0d0887"
             ],
             [
              0.1111111111111111,
              "#46039f"
             ],
             [
              0.2222222222222222,
              "#7201a8"
             ],
             [
              0.3333333333333333,
              "#9c179e"
             ],
             [
              0.4444444444444444,
              "#bd3786"
             ],
             [
              0.5555555555555556,
              "#d8576b"
             ],
             [
              0.6666666666666666,
              "#ed7953"
             ],
             [
              0.7777777777777778,
              "#fb9f3a"
             ],
             [
              0.8888888888888888,
              "#fdca26"
             ],
             [
              1,
              "#f0f921"
             ]
            ],
            "type": "heatmap"
           }
          ],
          "heatmapgl": [
           {
            "colorbar": {
             "outlinewidth": 0,
             "ticks": ""
            },
            "colorscale": [
             [
              0,
              "#0d0887"
             ],
             [
              0.1111111111111111,
              "#46039f"
             ],
             [
              0.2222222222222222,
              "#7201a8"
             ],
             [
              0.3333333333333333,
              "#9c179e"
             ],
             [
              0.4444444444444444,
              "#bd3786"
             ],
             [
              0.5555555555555556,
              "#d8576b"
             ],
             [
              0.6666666666666666,
              "#ed7953"
             ],
             [
              0.7777777777777778,
              "#fb9f3a"
             ],
             [
              0.8888888888888888,
              "#fdca26"
             ],
             [
              1,
              "#f0f921"
             ]
            ],
            "type": "heatmapgl"
           }
          ],
          "histogram": [
           {
            "marker": {
             "colorbar": {
              "outlinewidth": 0,
              "ticks": ""
             }
            },
            "type": "histogram"
           }
          ],
          "histogram2d": [
           {
            "colorbar": {
             "outlinewidth": 0,
             "ticks": ""
            },
            "colorscale": [
             [
              0,
              "#0d0887"
             ],
             [
              0.1111111111111111,
              "#46039f"
             ],
             [
              0.2222222222222222,
              "#7201a8"
             ],
             [
              0.3333333333333333,
              "#9c179e"
             ],
             [
              0.4444444444444444,
              "#bd3786"
             ],
             [
              0.5555555555555556,
              "#d8576b"
             ],
             [
              0.6666666666666666,
              "#ed7953"
             ],
             [
              0.7777777777777778,
              "#fb9f3a"
             ],
             [
              0.8888888888888888,
              "#fdca26"
             ],
             [
              1,
              "#f0f921"
             ]
            ],
            "type": "histogram2d"
           }
          ],
          "histogram2dcontour": [
           {
            "colorbar": {
             "outlinewidth": 0,
             "ticks": ""
            },
            "colorscale": [
             [
              0,
              "#0d0887"
             ],
             [
              0.1111111111111111,
              "#46039f"
             ],
             [
              0.2222222222222222,
              "#7201a8"
             ],
             [
              0.3333333333333333,
              "#9c179e"
             ],
             [
              0.4444444444444444,
              "#bd3786"
             ],
             [
              0.5555555555555556,
              "#d8576b"
             ],
             [
              0.6666666666666666,
              "#ed7953"
             ],
             [
              0.7777777777777778,
              "#fb9f3a"
             ],
             [
              0.8888888888888888,
              "#fdca26"
             ],
             [
              1,
              "#f0f921"
             ]
            ],
            "type": "histogram2dcontour"
           }
          ],
          "mesh3d": [
           {
            "colorbar": {
             "outlinewidth": 0,
             "ticks": ""
            },
            "type": "mesh3d"
           }
          ],
          "parcoords": [
           {
            "line": {
             "colorbar": {
              "outlinewidth": 0,
              "ticks": ""
             }
            },
            "type": "parcoords"
           }
          ],
          "pie": [
           {
            "automargin": true,
            "type": "pie"
           }
          ],
          "scatter": [
           {
            "marker": {
             "colorbar": {
              "outlinewidth": 0,
              "ticks": ""
             }
            },
            "type": "scatter"
           }
          ],
          "scatter3d": [
           {
            "line": {
             "colorbar": {
              "outlinewidth": 0,
              "ticks": ""
             }
            },
            "marker": {
             "colorbar": {
              "outlinewidth": 0,
              "ticks": ""
             }
            },
            "type": "scatter3d"
           }
          ],
          "scattercarpet": [
           {
            "marker": {
             "colorbar": {
              "outlinewidth": 0,
              "ticks": ""
             }
            },
            "type": "scattercarpet"
           }
          ],
          "scattergeo": [
           {
            "marker": {
             "colorbar": {
              "outlinewidth": 0,
              "ticks": ""
             }
            },
            "type": "scattergeo"
           }
          ],
          "scattergl": [
           {
            "marker": {
             "colorbar": {
              "outlinewidth": 0,
              "ticks": ""
             }
            },
            "type": "scattergl"
           }
          ],
          "scattermapbox": [
           {
            "marker": {
             "colorbar": {
              "outlinewidth": 0,
              "ticks": ""
             }
            },
            "type": "scattermapbox"
           }
          ],
          "scatterpolar": [
           {
            "marker": {
             "colorbar": {
              "outlinewidth": 0,
              "ticks": ""
             }
            },
            "type": "scatterpolar"
           }
          ],
          "scatterpolargl": [
           {
            "marker": {
             "colorbar": {
              "outlinewidth": 0,
              "ticks": ""
             }
            },
            "type": "scatterpolargl"
           }
          ],
          "scatterternary": [
           {
            "marker": {
             "colorbar": {
              "outlinewidth": 0,
              "ticks": ""
             }
            },
            "type": "scatterternary"
           }
          ],
          "surface": [
           {
            "colorbar": {
             "outlinewidth": 0,
             "ticks": ""
            },
            "colorscale": [
             [
              0,
              "#0d0887"
             ],
             [
              0.1111111111111111,
              "#46039f"
             ],
             [
              0.2222222222222222,
              "#7201a8"
             ],
             [
              0.3333333333333333,
              "#9c179e"
             ],
             [
              0.4444444444444444,
              "#bd3786"
             ],
             [
              0.5555555555555556,
              "#d8576b"
             ],
             [
              0.6666666666666666,
              "#ed7953"
             ],
             [
              0.7777777777777778,
              "#fb9f3a"
             ],
             [
              0.8888888888888888,
              "#fdca26"
             ],
             [
              1,
              "#f0f921"
             ]
            ],
            "type": "surface"
           }
          ],
          "table": [
           {
            "cells": {
             "fill": {
              "color": "#EBF0F8"
             },
             "line": {
              "color": "white"
             }
            },
            "header": {
             "fill": {
              "color": "#C8D4E3"
             },
             "line": {
              "color": "white"
             }
            },
            "type": "table"
           }
          ]
         },
         "layout": {
          "annotationdefaults": {
           "arrowcolor": "#2a3f5f",
           "arrowhead": 0,
           "arrowwidth": 1
          },
          "coloraxis": {
           "colorbar": {
            "outlinewidth": 0,
            "ticks": ""
           }
          },
          "colorscale": {
           "diverging": [
            [
             0,
             "#8e0152"
            ],
            [
             0.1,
             "#c51b7d"
            ],
            [
             0.2,
             "#de77ae"
            ],
            [
             0.3,
             "#f1b6da"
            ],
            [
             0.4,
             "#fde0ef"
            ],
            [
             0.5,
             "#f7f7f7"
            ],
            [
             0.6,
             "#e6f5d0"
            ],
            [
             0.7,
             "#b8e186"
            ],
            [
             0.8,
             "#7fbc41"
            ],
            [
             0.9,
             "#4d9221"
            ],
            [
             1,
             "#276419"
            ]
           ],
           "sequential": [
            [
             0,
             "#0d0887"
            ],
            [
             0.1111111111111111,
             "#46039f"
            ],
            [
             0.2222222222222222,
             "#7201a8"
            ],
            [
             0.3333333333333333,
             "#9c179e"
            ],
            [
             0.4444444444444444,
             "#bd3786"
            ],
            [
             0.5555555555555556,
             "#d8576b"
            ],
            [
             0.6666666666666666,
             "#ed7953"
            ],
            [
             0.7777777777777778,
             "#fb9f3a"
            ],
            [
             0.8888888888888888,
             "#fdca26"
            ],
            [
             1,
             "#f0f921"
            ]
           ],
           "sequentialminus": [
            [
             0,
             "#0d0887"
            ],
            [
             0.1111111111111111,
             "#46039f"
            ],
            [
             0.2222222222222222,
             "#7201a8"
            ],
            [
             0.3333333333333333,
             "#9c179e"
            ],
            [
             0.4444444444444444,
             "#bd3786"
            ],
            [
             0.5555555555555556,
             "#d8576b"
            ],
            [
             0.6666666666666666,
             "#ed7953"
            ],
            [
             0.7777777777777778,
             "#fb9f3a"
            ],
            [
             0.8888888888888888,
             "#fdca26"
            ],
            [
             1,
             "#f0f921"
            ]
           ]
          },
          "colorway": [
           "#636efa",
           "#EF553B",
           "#00cc96",
           "#ab63fa",
           "#FFA15A",
           "#19d3f3",
           "#FF6692",
           "#B6E880",
           "#FF97FF",
           "#FECB52"
          ],
          "font": {
           "color": "#2a3f5f"
          },
          "geo": {
           "bgcolor": "white",
           "lakecolor": "white",
           "landcolor": "#E5ECF6",
           "showlakes": true,
           "showland": true,
           "subunitcolor": "white"
          },
          "hoverlabel": {
           "align": "left"
          },
          "hovermode": "closest",
          "mapbox": {
           "style": "light"
          },
          "paper_bgcolor": "white",
          "plot_bgcolor": "#E5ECF6",
          "polar": {
           "angularaxis": {
            "gridcolor": "white",
            "linecolor": "white",
            "ticks": ""
           },
           "bgcolor": "#E5ECF6",
           "radialaxis": {
            "gridcolor": "white",
            "linecolor": "white",
            "ticks": ""
           }
          },
          "scene": {
           "xaxis": {
            "backgroundcolor": "#E5ECF6",
            "gridcolor": "white",
            "gridwidth": 2,
            "linecolor": "white",
            "showbackground": true,
            "ticks": "",
            "zerolinecolor": "white"
           },
           "yaxis": {
            "backgroundcolor": "#E5ECF6",
            "gridcolor": "white",
            "gridwidth": 2,
            "linecolor": "white",
            "showbackground": true,
            "ticks": "",
            "zerolinecolor": "white"
           },
           "zaxis": {
            "backgroundcolor": "#E5ECF6",
            "gridcolor": "white",
            "gridwidth": 2,
            "linecolor": "white",
            "showbackground": true,
            "ticks": "",
            "zerolinecolor": "white"
           }
          },
          "shapedefaults": {
           "line": {
            "color": "#2a3f5f"
           }
          },
          "ternary": {
           "aaxis": {
            "gridcolor": "white",
            "linecolor": "white",
            "ticks": ""
           },
           "baxis": {
            "gridcolor": "white",
            "linecolor": "white",
            "ticks": ""
           },
           "bgcolor": "#E5ECF6",
           "caxis": {
            "gridcolor": "white",
            "linecolor": "white",
            "ticks": ""
           }
          },
          "title": {
           "x": 0.05
          },
          "xaxis": {
           "automargin": true,
           "gridcolor": "white",
           "linecolor": "white",
           "ticks": "",
           "title": {
            "standoff": 15
           },
           "zerolinecolor": "white",
           "zerolinewidth": 2
          },
          "yaxis": {
           "automargin": true,
           "gridcolor": "white",
           "linecolor": "white",
           "ticks": "",
           "title": {
            "standoff": 15
           },
           "zerolinecolor": "white",
           "zerolinewidth": 2
          }
         }
        },
        "xaxis": {
         "constrain": "domain",
         "scaleanchor": "y",
         "title": {
          "text": "orderMonth"
         }
        },
        "yaxis": {
         "autorange": "reversed",
         "constrain": "domain",
         "title": {
          "text": "cohortIndex"
         }
        }
       }
      },
      "text/html": [
       "<div>                            <div id=\"daef2d27-0fdd-4493-8678-d4c83c3268fe\" class=\"plotly-graph-div\" style=\"height:525px; width:100%;\"></div>            <script type=\"text/javascript\">                require([\"plotly\"], function(Plotly) {                    window.PLOTLYENV=window.PLOTLYENV || {};                                    if (document.getElementById(\"daef2d27-0fdd-4493-8678-d4c83c3268fe\")) {                    Plotly.newPlot(                        \"daef2d27-0fdd-4493-8678-d4c83c3268fe\",                        [{\"coloraxis\": \"coloraxis\", \"hovertemplate\": \"orderMonth: %{x}<br>cohortIndex: %{y}<br>color: %{z}<extra></extra>\", \"type\": \"heatmap\", \"x\": [\"2009-01-01T00:00:00\", \"2009-02-01T00:00:00\", \"2009-03-01T00:00:00\", \"2009-04-01T00:00:00\", \"2009-05-01T00:00:00\", \"2009-06-01T00:00:00\", \"2009-07-01T00:00:00\", \"2009-08-01T00:00:00\", \"2009-09-01T00:00:00\", \"2009-10-01T00:00:00\", \"2009-11-01T00:00:00\", \"2009-12-01T00:00:00\", \"2010-01-01T00:00:00\", \"2010-02-01T00:00:00\", \"2010-03-01T00:00:00\"], \"y\": [1, 2, 3, 4, 5, 6, 7, 8, 9, 10, 11, 12, 13, 14, 15], \"z\": [[1850.255, 666.31, 806.31, 2561.2499999999995, 2627.5600000000004, 1544.2199999999998, 2797.7599999999998, 2605.9981000000002, 1953.0553, 3802.2525000000005, 6738.586899999998, 4571.691099999999, 9677.9032, 7374.710800000003, 1099.5470999999998], [null, 1351.0649999999998, 501.60999999999996, 463.79999999999995, 1189.5799999999997, 1146.8300000000002, 1165.9, 1858.3499, 1869.4376, 2433.3013000000005, 1957.8871999999997, 5107.421299999999, 2565.4410000000003, 8453.103900000002, 945.9632999999999], [null, null, 1357.36, 968.7800000000001, 1108.21, 1085.3799999999997, 648.2100000000002, 688.2128999999999, 1312.8501999999999, 1313.7691, 1953.2262000000003, 2394.5337999999992, 5046.8124, 1785.7852999999998, 2238.6461], [null, null, null, 1604.5, 53.36, 902.71, 987.13, 381.15, 922.7762, 1053.5598999999997, 1228.7399, 1371.3499000000002, 1952.0574000000004, 3486.0959000000003, 534.0929], [null, null, null, null, 1575.6250000000002, 758.52, 161.25, 474.01, 415.5969, 504.4159, 833.4689999999999, 1723.3975, 2262.0345999999995, 1783.1022000000003, 961.3680999999998], [null, null, null, null, null, 1384.84, 667.1, 1010.8000000000001, 531.3825, 389.06050000000005, 182.91, 506.24090000000007, 1213.1379000000002, 1842.9433999999999, 546.0690999999999], [null, null, null, null, null, null, 1750.8400000000001, 314.17519999999996, 1256.4672, 209.44650000000001, 351.68, 295.0, 793.0552, 1595.9906, 688.6822], [null, null, null, null, null, null, null, 1426.5714, 567.5057, 1067.9247, 339.11389999999994, 420.2842, 514.9887, 1163.1281999999999, 478.77869999999996], [null, null, null, null, null, null, null, null, 1964.2755, 328.28, 905.361, 147.325, 223.56889999999999, 1211.4755, 401.71900000000005], [null, null, null, null, null, null, null, null, null, 860.3292, 738.9359, 485.9966, 445.5447, 613.8222, 162.12], [null, null, null, null, null, null, null, null, null, null, 1821.8153000000002, 263.19710000000003, 897.1602, 634.695, 81.82830000000001], [null, null, null, null, null, null, null, null, null, null, null, 2152.1165, 550.0097999999999, 642.1517, 279.8733], [null, null, null, null, null, null, null, null, null, null, null, null, 2084.2236000000003, 734.7613000000001, 76.31], [null, null, null, null, null, null, null, null, null, null, null, null, null, 2068.7771, null], [null, null, null, null, null, null, null, null, null, null, null, null, null, null, 1504.3324999999998]]}],                        {\"coloraxis\": {\"colorscale\": [[0.0, \"rgb(5,48,97)\"], [0.1, \"rgb(33,102,172)\"], [0.2, \"rgb(67,147,195)\"], [0.3, \"rgb(146,197,222)\"], [0.4, \"rgb(209,229,240)\"], [0.5, \"rgb(247,247,247)\"], [0.6, \"rgb(253,219,199)\"], [0.7, \"rgb(244,165,130)\"], [0.8, \"rgb(214,96,77)\"], [0.9, \"rgb(178,24,43)\"], [1.0, \"rgb(103,0,31)\"]]}, \"margin\": {\"t\": 60}, \"template\": {\"data\": {\"bar\": [{\"error_x\": {\"color\": \"#2a3f5f\"}, \"error_y\": {\"color\": \"#2a3f5f\"}, \"marker\": {\"line\": {\"color\": \"#E5ECF6\", \"width\": 0.5}}, \"type\": \"bar\"}], \"barpolar\": [{\"marker\": {\"line\": {\"color\": \"#E5ECF6\", \"width\": 0.5}}, \"type\": \"barpolar\"}], \"carpet\": [{\"aaxis\": {\"endlinecolor\": \"#2a3f5f\", \"gridcolor\": \"white\", \"linecolor\": \"white\", \"minorgridcolor\": \"white\", \"startlinecolor\": \"#2a3f5f\"}, \"baxis\": {\"endlinecolor\": \"#2a3f5f\", \"gridcolor\": \"white\", \"linecolor\": \"white\", \"minorgridcolor\": \"white\", \"startlinecolor\": \"#2a3f5f\"}, \"type\": \"carpet\"}], \"choropleth\": [{\"colorbar\": {\"outlinewidth\": 0, \"ticks\": \"\"}, \"type\": \"choropleth\"}], \"contour\": [{\"colorbar\": {\"outlinewidth\": 0, \"ticks\": \"\"}, \"colorscale\": [[0.0, \"#0d0887\"], [0.1111111111111111, \"#46039f\"], [0.2222222222222222, \"#7201a8\"], [0.3333333333333333, \"#9c179e\"], [0.4444444444444444, \"#bd3786\"], [0.5555555555555556, \"#d8576b\"], [0.6666666666666666, \"#ed7953\"], [0.7777777777777778, \"#fb9f3a\"], [0.8888888888888888, \"#fdca26\"], [1.0, \"#f0f921\"]], \"type\": \"contour\"}], \"contourcarpet\": [{\"colorbar\": {\"outlinewidth\": 0, \"ticks\": \"\"}, \"type\": \"contourcarpet\"}], \"heatmap\": [{\"colorbar\": {\"outlinewidth\": 0, \"ticks\": \"\"}, \"colorscale\": [[0.0, \"#0d0887\"], [0.1111111111111111, \"#46039f\"], [0.2222222222222222, \"#7201a8\"], [0.3333333333333333, \"#9c179e\"], [0.4444444444444444, \"#bd3786\"], [0.5555555555555556, \"#d8576b\"], [0.6666666666666666, \"#ed7953\"], [0.7777777777777778, \"#fb9f3a\"], [0.8888888888888888, \"#fdca26\"], [1.0, \"#f0f921\"]], \"type\": \"heatmap\"}], \"heatmapgl\": [{\"colorbar\": {\"outlinewidth\": 0, \"ticks\": \"\"}, \"colorscale\": [[0.0, \"#0d0887\"], [0.1111111111111111, \"#46039f\"], [0.2222222222222222, \"#7201a8\"], [0.3333333333333333, \"#9c179e\"], [0.4444444444444444, \"#bd3786\"], [0.5555555555555556, \"#d8576b\"], [0.6666666666666666, \"#ed7953\"], [0.7777777777777778, \"#fb9f3a\"], [0.8888888888888888, \"#fdca26\"], [1.0, \"#f0f921\"]], \"type\": \"heatmapgl\"}], \"histogram\": [{\"marker\": {\"colorbar\": {\"outlinewidth\": 0, \"ticks\": \"\"}}, \"type\": \"histogram\"}], \"histogram2d\": [{\"colorbar\": {\"outlinewidth\": 0, \"ticks\": \"\"}, \"colorscale\": [[0.0, \"#0d0887\"], [0.1111111111111111, \"#46039f\"], [0.2222222222222222, \"#7201a8\"], [0.3333333333333333, \"#9c179e\"], [0.4444444444444444, \"#bd3786\"], [0.5555555555555556, \"#d8576b\"], [0.6666666666666666, \"#ed7953\"], [0.7777777777777778, \"#fb9f3a\"], [0.8888888888888888, \"#fdca26\"], [1.0, \"#f0f921\"]], \"type\": \"histogram2d\"}], \"histogram2dcontour\": [{\"colorbar\": {\"outlinewidth\": 0, \"ticks\": \"\"}, \"colorscale\": [[0.0, \"#0d0887\"], [0.1111111111111111, \"#46039f\"], [0.2222222222222222, \"#7201a8\"], [0.3333333333333333, \"#9c179e\"], [0.4444444444444444, \"#bd3786\"], [0.5555555555555556, \"#d8576b\"], [0.6666666666666666, \"#ed7953\"], [0.7777777777777778, \"#fb9f3a\"], [0.8888888888888888, \"#fdca26\"], [1.0, \"#f0f921\"]], \"type\": \"histogram2dcontour\"}], \"mesh3d\": [{\"colorbar\": {\"outlinewidth\": 0, \"ticks\": \"\"}, \"type\": \"mesh3d\"}], \"parcoords\": [{\"line\": {\"colorbar\": {\"outlinewidth\": 0, \"ticks\": \"\"}}, \"type\": \"parcoords\"}], \"pie\": [{\"automargin\": true, \"type\": \"pie\"}], \"scatter\": [{\"marker\": {\"colorbar\": {\"outlinewidth\": 0, \"ticks\": \"\"}}, \"type\": \"scatter\"}], \"scatter3d\": [{\"line\": {\"colorbar\": {\"outlinewidth\": 0, \"ticks\": \"\"}}, \"marker\": {\"colorbar\": {\"outlinewidth\": 0, \"ticks\": \"\"}}, \"type\": \"scatter3d\"}], \"scattercarpet\": [{\"marker\": {\"colorbar\": {\"outlinewidth\": 0, \"ticks\": \"\"}}, \"type\": \"scattercarpet\"}], \"scattergeo\": [{\"marker\": {\"colorbar\": {\"outlinewidth\": 0, \"ticks\": \"\"}}, \"type\": \"scattergeo\"}], \"scattergl\": [{\"marker\": {\"colorbar\": {\"outlinewidth\": 0, \"ticks\": \"\"}}, \"type\": \"scattergl\"}], \"scattermapbox\": [{\"marker\": {\"colorbar\": {\"outlinewidth\": 0, \"ticks\": \"\"}}, \"type\": \"scattermapbox\"}], \"scatterpolar\": [{\"marker\": {\"colorbar\": {\"outlinewidth\": 0, \"ticks\": \"\"}}, \"type\": \"scatterpolar\"}], \"scatterpolargl\": [{\"marker\": {\"colorbar\": {\"outlinewidth\": 0, \"ticks\": \"\"}}, \"type\": \"scatterpolargl\"}], \"scatterternary\": [{\"marker\": {\"colorbar\": {\"outlinewidth\": 0, \"ticks\": \"\"}}, \"type\": \"scatterternary\"}], \"surface\": [{\"colorbar\": {\"outlinewidth\": 0, \"ticks\": \"\"}, \"colorscale\": [[0.0, \"#0d0887\"], [0.1111111111111111, \"#46039f\"], [0.2222222222222222, \"#7201a8\"], [0.3333333333333333, \"#9c179e\"], [0.4444444444444444, \"#bd3786\"], [0.5555555555555556, \"#d8576b\"], [0.6666666666666666, \"#ed7953\"], [0.7777777777777778, \"#fb9f3a\"], [0.8888888888888888, \"#fdca26\"], [1.0, \"#f0f921\"]], \"type\": \"surface\"}], \"table\": [{\"cells\": {\"fill\": {\"color\": \"#EBF0F8\"}, \"line\": {\"color\": \"white\"}}, \"header\": {\"fill\": {\"color\": \"#C8D4E3\"}, \"line\": {\"color\": \"white\"}}, \"type\": \"table\"}]}, \"layout\": {\"annotationdefaults\": {\"arrowcolor\": \"#2a3f5f\", \"arrowhead\": 0, \"arrowwidth\": 1}, \"coloraxis\": {\"colorbar\": {\"outlinewidth\": 0, \"ticks\": \"\"}}, \"colorscale\": {\"diverging\": [[0, \"#8e0152\"], [0.1, \"#c51b7d\"], [0.2, \"#de77ae\"], [0.3, \"#f1b6da\"], [0.4, \"#fde0ef\"], [0.5, \"#f7f7f7\"], [0.6, \"#e6f5d0\"], [0.7, \"#b8e186\"], [0.8, \"#7fbc41\"], [0.9, \"#4d9221\"], [1, \"#276419\"]], \"sequential\": [[0.0, \"#0d0887\"], [0.1111111111111111, \"#46039f\"], [0.2222222222222222, \"#7201a8\"], [0.3333333333333333, \"#9c179e\"], [0.4444444444444444, \"#bd3786\"], [0.5555555555555556, \"#d8576b\"], [0.6666666666666666, \"#ed7953\"], [0.7777777777777778, \"#fb9f3a\"], [0.8888888888888888, \"#fdca26\"], [1.0, \"#f0f921\"]], \"sequentialminus\": [[0.0, \"#0d0887\"], [0.1111111111111111, \"#46039f\"], [0.2222222222222222, \"#7201a8\"], [0.3333333333333333, \"#9c179e\"], [0.4444444444444444, \"#bd3786\"], [0.5555555555555556, \"#d8576b\"], [0.6666666666666666, \"#ed7953\"], [0.7777777777777778, \"#fb9f3a\"], [0.8888888888888888, \"#fdca26\"], [1.0, \"#f0f921\"]]}, \"colorway\": [\"#636efa\", \"#EF553B\", \"#00cc96\", \"#ab63fa\", \"#FFA15A\", \"#19d3f3\", \"#FF6692\", \"#B6E880\", \"#FF97FF\", \"#FECB52\"], \"font\": {\"color\": \"#2a3f5f\"}, \"geo\": {\"bgcolor\": \"white\", \"lakecolor\": \"white\", \"landcolor\": \"#E5ECF6\", \"showlakes\": true, \"showland\": true, \"subunitcolor\": \"white\"}, \"hoverlabel\": {\"align\": \"left\"}, \"hovermode\": \"closest\", \"mapbox\": {\"style\": \"light\"}, \"paper_bgcolor\": \"white\", \"plot_bgcolor\": \"#E5ECF6\", \"polar\": {\"angularaxis\": {\"gridcolor\": \"white\", \"linecolor\": \"white\", \"ticks\": \"\"}, \"bgcolor\": \"#E5ECF6\", \"radialaxis\": {\"gridcolor\": \"white\", \"linecolor\": \"white\", \"ticks\": \"\"}}, \"scene\": {\"xaxis\": {\"backgroundcolor\": \"#E5ECF6\", \"gridcolor\": \"white\", \"gridwidth\": 2, \"linecolor\": \"white\", \"showbackground\": true, \"ticks\": \"\", \"zerolinecolor\": \"white\"}, \"yaxis\": {\"backgroundcolor\": \"#E5ECF6\", \"gridcolor\": \"white\", \"gridwidth\": 2, \"linecolor\": \"white\", \"showbackground\": true, \"ticks\": \"\", \"zerolinecolor\": \"white\"}, \"zaxis\": {\"backgroundcolor\": \"#E5ECF6\", \"gridcolor\": \"white\", \"gridwidth\": 2, \"linecolor\": \"white\", \"showbackground\": true, \"ticks\": \"\", \"zerolinecolor\": \"white\"}}, \"shapedefaults\": {\"line\": {\"color\": \"#2a3f5f\"}}, \"ternary\": {\"aaxis\": {\"gridcolor\": \"white\", \"linecolor\": \"white\", \"ticks\": \"\"}, \"baxis\": {\"gridcolor\": \"white\", \"linecolor\": \"white\", \"ticks\": \"\"}, \"bgcolor\": \"#E5ECF6\", \"caxis\": {\"gridcolor\": \"white\", \"linecolor\": \"white\", \"ticks\": \"\"}}, \"title\": {\"x\": 0.05}, \"xaxis\": {\"automargin\": true, \"gridcolor\": \"white\", \"linecolor\": \"white\", \"ticks\": \"\", \"title\": {\"standoff\": 15}, \"zerolinecolor\": \"white\", \"zerolinewidth\": 2}, \"yaxis\": {\"automargin\": true, \"gridcolor\": \"white\", \"linecolor\": \"white\", \"ticks\": \"\", \"title\": {\"standoff\": 15}, \"zerolinecolor\": \"white\", \"zerolinewidth\": 2}}}, \"xaxis\": {\"constrain\": \"domain\", \"scaleanchor\": \"y\", \"title\": {\"text\": \"orderMonth\"}}, \"yaxis\": {\"autorange\": \"reversed\", \"constrain\": \"domain\", \"title\": {\"text\": \"cohortIndex\"}}},                        {\"responsive\": true}                    ).then(function(){\n",
       "                            \n",
       "var gd = document.getElementById('daef2d27-0fdd-4493-8678-d4c83c3268fe');\n",
       "var x = new MutationObserver(function (mutations, observer) {{\n",
       "        var display = window.getComputedStyle(gd).display;\n",
       "        if (!display || display === 'none') {{\n",
       "            console.log([gd, 'removed!']);\n",
       "            Plotly.purge(gd);\n",
       "            observer.disconnect();\n",
       "        }}\n",
       "}});\n",
       "\n",
       "// Listen for the removal of the full notebook cells\n",
       "var notebookContainer = gd.closest('#notebook-container');\n",
       "if (notebookContainer) {{\n",
       "    x.observe(notebookContainer, {childList: true});\n",
       "}}\n",
       "\n",
       "// Listen for the clearing of the current output cell\n",
       "var outputEl = gd.closest('.output');\n",
       "if (outputEl) {{\n",
       "    x.observe(outputEl, {childList: true});\n",
       "}}\n",
       "\n",
       "                        })                };                });            </script>        </div>"
      ]
     },
     "metadata": {},
     "output_type": "display_data"
    }
   ],
   "source": [
    "import plotly.express as px\n",
    "import plotly.graph_objects as go\n",
    "import plotly.figure_factory as ff\n",
    "\n",
    "cohort_data = dfSub.groupby(['cohortIndex', 'orderMonth'])['totalCharges'].sum().reset_index()\n",
    "cohort_table = cohort_data.pivot_table(\n",
    "    index = 'cohortIndex',\n",
    "    columns = 'orderMonth',\n",
    "    values = 'totalCharges'\n",
    ")\n",
    "\n",
    "px.imshow(cohort_table, color_continuous_scale='RdBu_r')"
   ]
  },
  {
   "cell_type": "code",
   "execution_count": 13,
   "metadata": {},
   "outputs": [
    {
     "data": {
      "text/html": [
       "<div>\n",
       "<style scoped>\n",
       "    .dataframe tbody tr th:only-of-type {\n",
       "        vertical-align: middle;\n",
       "    }\n",
       "\n",
       "    .dataframe tbody tr th {\n",
       "        vertical-align: top;\n",
       "    }\n",
       "\n",
       "    .dataframe thead th {\n",
       "        text-align: right;\n",
       "    }\n",
       "</style>\n",
       "<table border=\"1\" class=\"dataframe\">\n",
       "  <thead>\n",
       "    <tr style=\"text-align: right;\">\n",
       "      <th>cohortMonth</th>\n",
       "      <th>2009-01-01</th>\n",
       "      <th>2009-02-01</th>\n",
       "      <th>2009-03-01</th>\n",
       "      <th>2009-04-01</th>\n",
       "      <th>2009-05-01</th>\n",
       "      <th>2009-06-01</th>\n",
       "      <th>2009-07-01</th>\n",
       "      <th>2009-08-01</th>\n",
       "      <th>2009-09-01</th>\n",
       "      <th>2009-10-01</th>\n",
       "      <th>2009-11-01</th>\n",
       "      <th>2009-12-01</th>\n",
       "      <th>2010-01-01</th>\n",
       "      <th>2010-02-01</th>\n",
       "      <th>2010-03-01</th>\n",
       "    </tr>\n",
       "    <tr>\n",
       "      <th>cohortIndex</th>\n",
       "      <th></th>\n",
       "      <th></th>\n",
       "      <th></th>\n",
       "      <th></th>\n",
       "      <th></th>\n",
       "      <th></th>\n",
       "      <th></th>\n",
       "      <th></th>\n",
       "      <th></th>\n",
       "      <th></th>\n",
       "      <th></th>\n",
       "      <th></th>\n",
       "      <th></th>\n",
       "      <th></th>\n",
       "      <th></th>\n",
       "    </tr>\n",
       "  </thead>\n",
       "  <tbody>\n",
       "    <tr>\n",
       "      <td>1</td>\n",
       "      <td>100.0</td>\n",
       "      <td>68.2</td>\n",
       "      <td>59.1</td>\n",
       "      <td>177.3</td>\n",
       "      <td>227.3</td>\n",
       "      <td>145.5</td>\n",
       "      <td>227.3</td>\n",
       "      <td>140.9</td>\n",
       "      <td>168.2</td>\n",
       "      <td>245.5</td>\n",
       "      <td>590.9</td>\n",
       "      <td>295.5</td>\n",
       "      <td>431.8</td>\n",
       "      <td>454.5</td>\n",
       "      <td>109.1</td>\n",
       "    </tr>\n",
       "    <tr>\n",
       "      <td>2</td>\n",
       "      <td>100.0</td>\n",
       "      <td>37.5</td>\n",
       "      <td>50.0</td>\n",
       "      <td>162.5</td>\n",
       "      <td>162.5</td>\n",
       "      <td>187.5</td>\n",
       "      <td>287.5</td>\n",
       "      <td>137.5</td>\n",
       "      <td>187.5</td>\n",
       "      <td>212.5</td>\n",
       "      <td>400.0</td>\n",
       "      <td>212.5</td>\n",
       "      <td>625.0</td>\n",
       "      <td>237.5</td>\n",
       "      <td>NaN</td>\n",
       "    </tr>\n",
       "    <tr>\n",
       "      <td>3</td>\n",
       "      <td>100.0</td>\n",
       "      <td>50.0</td>\n",
       "      <td>50.0</td>\n",
       "      <td>100.0</td>\n",
       "      <td>120.0</td>\n",
       "      <td>90.0</td>\n",
       "      <td>130.0</td>\n",
       "      <td>90.0</td>\n",
       "      <td>140.0</td>\n",
       "      <td>120.0</td>\n",
       "      <td>260.0</td>\n",
       "      <td>180.0</td>\n",
       "      <td>260.0</td>\n",
       "      <td>NaN</td>\n",
       "      <td>NaN</td>\n",
       "    </tr>\n",
       "    <tr>\n",
       "      <td>4</td>\n",
       "      <td>100.0</td>\n",
       "      <td>11.1</td>\n",
       "      <td>44.4</td>\n",
       "      <td>144.4</td>\n",
       "      <td>55.6</td>\n",
       "      <td>66.7</td>\n",
       "      <td>111.1</td>\n",
       "      <td>77.8</td>\n",
       "      <td>88.9</td>\n",
       "      <td>144.4</td>\n",
       "      <td>322.2</td>\n",
       "      <td>77.8</td>\n",
       "      <td>NaN</td>\n",
       "      <td>NaN</td>\n",
       "      <td>NaN</td>\n",
       "    </tr>\n",
       "    <tr>\n",
       "      <td>5</td>\n",
       "      <td>100.0</td>\n",
       "      <td>40.0</td>\n",
       "      <td>10.0</td>\n",
       "      <td>60.0</td>\n",
       "      <td>40.0</td>\n",
       "      <td>70.0</td>\n",
       "      <td>110.0</td>\n",
       "      <td>60.0</td>\n",
       "      <td>130.0</td>\n",
       "      <td>130.0</td>\n",
       "      <td>130.0</td>\n",
       "      <td>NaN</td>\n",
       "      <td>NaN</td>\n",
       "      <td>NaN</td>\n",
       "      <td>NaN</td>\n",
       "    </tr>\n",
       "    <tr>\n",
       "      <td>6</td>\n",
       "      <td>100.0</td>\n",
       "      <td>50.0</td>\n",
       "      <td>25.0</td>\n",
       "      <td>87.5</td>\n",
       "      <td>75.0</td>\n",
       "      <td>62.5</td>\n",
       "      <td>125.0</td>\n",
       "      <td>100.0</td>\n",
       "      <td>112.5</td>\n",
       "      <td>87.5</td>\n",
       "      <td>NaN</td>\n",
       "      <td>NaN</td>\n",
       "      <td>NaN</td>\n",
       "      <td>NaN</td>\n",
       "      <td>NaN</td>\n",
       "    </tr>\n",
       "    <tr>\n",
       "      <td>7</td>\n",
       "      <td>100.0</td>\n",
       "      <td>50.0</td>\n",
       "      <td>25.0</td>\n",
       "      <td>50.0</td>\n",
       "      <td>37.5</td>\n",
       "      <td>37.5</td>\n",
       "      <td>137.5</td>\n",
       "      <td>50.0</td>\n",
       "      <td>100.0</td>\n",
       "      <td>NaN</td>\n",
       "      <td>NaN</td>\n",
       "      <td>NaN</td>\n",
       "      <td>NaN</td>\n",
       "      <td>NaN</td>\n",
       "      <td>NaN</td>\n",
       "    </tr>\n",
       "    <tr>\n",
       "      <td>8</td>\n",
       "      <td>100.0</td>\n",
       "      <td>71.4</td>\n",
       "      <td>42.9</td>\n",
       "      <td>85.7</td>\n",
       "      <td>71.4</td>\n",
       "      <td>42.9</td>\n",
       "      <td>100.0</td>\n",
       "      <td>57.1</td>\n",
       "      <td>NaN</td>\n",
       "      <td>NaN</td>\n",
       "      <td>NaN</td>\n",
       "      <td>NaN</td>\n",
       "      <td>NaN</td>\n",
       "      <td>NaN</td>\n",
       "      <td>NaN</td>\n",
       "    </tr>\n",
       "    <tr>\n",
       "      <td>9</td>\n",
       "      <td>100.0</td>\n",
       "      <td>71.4</td>\n",
       "      <td>28.6</td>\n",
       "      <td>28.6</td>\n",
       "      <td>71.4</td>\n",
       "      <td>142.9</td>\n",
       "      <td>100.0</td>\n",
       "      <td>NaN</td>\n",
       "      <td>NaN</td>\n",
       "      <td>NaN</td>\n",
       "      <td>NaN</td>\n",
       "      <td>NaN</td>\n",
       "      <td>NaN</td>\n",
       "      <td>NaN</td>\n",
       "      <td>NaN</td>\n",
       "    </tr>\n",
       "    <tr>\n",
       "      <td>10</td>\n",
       "      <td>100.0</td>\n",
       "      <td>57.1</td>\n",
       "      <td>14.3</td>\n",
       "      <td>57.1</td>\n",
       "      <td>57.1</td>\n",
       "      <td>42.9</td>\n",
       "      <td>NaN</td>\n",
       "      <td>NaN</td>\n",
       "      <td>NaN</td>\n",
       "      <td>NaN</td>\n",
       "      <td>NaN</td>\n",
       "      <td>NaN</td>\n",
       "      <td>NaN</td>\n",
       "      <td>NaN</td>\n",
       "      <td>NaN</td>\n",
       "    </tr>\n",
       "    <tr>\n",
       "      <td>11</td>\n",
       "      <td>100.0</td>\n",
       "      <td>42.9</td>\n",
       "      <td>42.9</td>\n",
       "      <td>42.9</td>\n",
       "      <td>42.9</td>\n",
       "      <td>NaN</td>\n",
       "      <td>NaN</td>\n",
       "      <td>NaN</td>\n",
       "      <td>NaN</td>\n",
       "      <td>NaN</td>\n",
       "      <td>NaN</td>\n",
       "      <td>NaN</td>\n",
       "      <td>NaN</td>\n",
       "      <td>NaN</td>\n",
       "      <td>NaN</td>\n",
       "    </tr>\n",
       "    <tr>\n",
       "      <td>12</td>\n",
       "      <td>100.0</td>\n",
       "      <td>37.5</td>\n",
       "      <td>25.0</td>\n",
       "      <td>25.0</td>\n",
       "      <td>NaN</td>\n",
       "      <td>NaN</td>\n",
       "      <td>NaN</td>\n",
       "      <td>NaN</td>\n",
       "      <td>NaN</td>\n",
       "      <td>NaN</td>\n",
       "      <td>NaN</td>\n",
       "      <td>NaN</td>\n",
       "      <td>NaN</td>\n",
       "      <td>NaN</td>\n",
       "      <td>NaN</td>\n",
       "    </tr>\n",
       "    <tr>\n",
       "      <td>13</td>\n",
       "      <td>100.0</td>\n",
       "      <td>45.5</td>\n",
       "      <td>9.1</td>\n",
       "      <td>NaN</td>\n",
       "      <td>NaN</td>\n",
       "      <td>NaN</td>\n",
       "      <td>NaN</td>\n",
       "      <td>NaN</td>\n",
       "      <td>NaN</td>\n",
       "      <td>NaN</td>\n",
       "      <td>NaN</td>\n",
       "      <td>NaN</td>\n",
       "      <td>NaN</td>\n",
       "      <td>NaN</td>\n",
       "      <td>NaN</td>\n",
       "    </tr>\n",
       "    <tr>\n",
       "      <td>14</td>\n",
       "      <td>100.0</td>\n",
       "      <td>NaN</td>\n",
       "      <td>NaN</td>\n",
       "      <td>NaN</td>\n",
       "      <td>NaN</td>\n",
       "      <td>NaN</td>\n",
       "      <td>NaN</td>\n",
       "      <td>NaN</td>\n",
       "      <td>NaN</td>\n",
       "      <td>NaN</td>\n",
       "      <td>NaN</td>\n",
       "      <td>NaN</td>\n",
       "      <td>NaN</td>\n",
       "      <td>NaN</td>\n",
       "      <td>NaN</td>\n",
       "    </tr>\n",
       "    <tr>\n",
       "      <td>15</td>\n",
       "      <td>100.0</td>\n",
       "      <td>NaN</td>\n",
       "      <td>NaN</td>\n",
       "      <td>NaN</td>\n",
       "      <td>NaN</td>\n",
       "      <td>NaN</td>\n",
       "      <td>NaN</td>\n",
       "      <td>NaN</td>\n",
       "      <td>NaN</td>\n",
       "      <td>NaN</td>\n",
       "      <td>NaN</td>\n",
       "      <td>NaN</td>\n",
       "      <td>NaN</td>\n",
       "      <td>NaN</td>\n",
       "      <td>NaN</td>\n",
       "    </tr>\n",
       "  </tbody>\n",
       "</table>\n",
       "</div>"
      ],
      "text/plain": [
       "cohortMonth  2009-01-01  2009-02-01  2009-03-01  2009-04-01  2009-05-01  \\\n",
       "cohortIndex                                                               \n",
       "1                 100.0        68.2        59.1       177.3       227.3   \n",
       "2                 100.0        37.5        50.0       162.5       162.5   \n",
       "3                 100.0        50.0        50.0       100.0       120.0   \n",
       "4                 100.0        11.1        44.4       144.4        55.6   \n",
       "5                 100.0        40.0        10.0        60.0        40.0   \n",
       "6                 100.0        50.0        25.0        87.5        75.0   \n",
       "7                 100.0        50.0        25.0        50.0        37.5   \n",
       "8                 100.0        71.4        42.9        85.7        71.4   \n",
       "9                 100.0        71.4        28.6        28.6        71.4   \n",
       "10                100.0        57.1        14.3        57.1        57.1   \n",
       "11                100.0        42.9        42.9        42.9        42.9   \n",
       "12                100.0        37.5        25.0        25.0         NaN   \n",
       "13                100.0        45.5         9.1         NaN         NaN   \n",
       "14                100.0         NaN         NaN         NaN         NaN   \n",
       "15                100.0         NaN         NaN         NaN         NaN   \n",
       "\n",
       "cohortMonth  2009-06-01  2009-07-01  2009-08-01  2009-09-01  2009-10-01  \\\n",
       "cohortIndex                                                               \n",
       "1                 145.5       227.3       140.9       168.2       245.5   \n",
       "2                 187.5       287.5       137.5       187.5       212.5   \n",
       "3                  90.0       130.0        90.0       140.0       120.0   \n",
       "4                  66.7       111.1        77.8        88.9       144.4   \n",
       "5                  70.0       110.0        60.0       130.0       130.0   \n",
       "6                  62.5       125.0       100.0       112.5        87.5   \n",
       "7                  37.5       137.5        50.0       100.0         NaN   \n",
       "8                  42.9       100.0        57.1         NaN         NaN   \n",
       "9                 142.9       100.0         NaN         NaN         NaN   \n",
       "10                 42.9         NaN         NaN         NaN         NaN   \n",
       "11                  NaN         NaN         NaN         NaN         NaN   \n",
       "12                  NaN         NaN         NaN         NaN         NaN   \n",
       "13                  NaN         NaN         NaN         NaN         NaN   \n",
       "14                  NaN         NaN         NaN         NaN         NaN   \n",
       "15                  NaN         NaN         NaN         NaN         NaN   \n",
       "\n",
       "cohortMonth  2009-11-01  2009-12-01  2010-01-01  2010-02-01  2010-03-01  \n",
       "cohortIndex                                                              \n",
       "1                 590.9       295.5       431.8       454.5       109.1  \n",
       "2                 400.0       212.5       625.0       237.5         NaN  \n",
       "3                 260.0       180.0       260.0         NaN         NaN  \n",
       "4                 322.2        77.8         NaN         NaN         NaN  \n",
       "5                 130.0         NaN         NaN         NaN         NaN  \n",
       "6                   NaN         NaN         NaN         NaN         NaN  \n",
       "7                   NaN         NaN         NaN         NaN         NaN  \n",
       "8                   NaN         NaN         NaN         NaN         NaN  \n",
       "9                   NaN         NaN         NaN         NaN         NaN  \n",
       "10                  NaN         NaN         NaN         NaN         NaN  \n",
       "11                  NaN         NaN         NaN         NaN         NaN  \n",
       "12                  NaN         NaN         NaN         NaN         NaN  \n",
       "13                  NaN         NaN         NaN         NaN         NaN  \n",
       "14                  NaN         NaN         NaN         NaN         NaN  \n",
       "15                  NaN         NaN         NaN         NaN         NaN  "
      ]
     },
     "execution_count": 13,
     "metadata": {},
     "output_type": "execute_result"
    }
   ],
   "source": [
    "cohort_size = cohort_count.iloc[:, 0]\n",
    "retention = cohort_count.divide(cohort_size, axis = 0)\n",
    "retention.round(3) * 100"
   ]
  },
  {
   "cell_type": "code",
   "execution_count": 102,
   "metadata": {},
   "outputs": [
    {
     "data": {
      "image/png": "[encoded data removed]",
      "text/plain": [
       "<Figure size 792x648 with 2 Axes>"
      ]
     },
     "metadata": {
      "needs_background": "light"
     },
     "output_type": "display_data"
    }
   ],
   "source": [
    "plt.figure(figsize = (11, 9))\n",
    "plt.title('Cohort Analysis')\n",
    "sns.heatmap(data = retention,\n",
    "           annot = True,\n",
    "           fmt = '.0%',\n",
    "           vmin = 0.0,\n",
    "           vmax = 2,\n",
    "           cmap = \"YlGnBu\")\n",
    "plt.show()"
   ]
  }
 ],
 "metadata": {
  "kernelspec": {
   "display_name": "Python 3",
   "language": "python",
   "name": "python3"
  },
  "language_info": {
   "codemirror_mode": {
    "name": "ipython",
    "version": 3
   },
   "file_extension": ".py",
   "mimetype": "text/x-python",
   "name": "python",
   "nbconvert_exporter": "python",
   "pygments_lexer": "ipython3",
   "version": "3.7.4"
  }
 },
 "nbformat": 4,
 "nbformat_minor": 2
}
